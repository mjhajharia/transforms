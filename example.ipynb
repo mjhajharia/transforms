{
 "cells": [
  {
   "cell_type": "code",
   "execution_count": null,
   "id": "e3ec8716",
   "metadata": {},
   "outputs": [],
   "source": [
    "import os\n",
    "import sys\n",
    "sys.path.insert(1, 'utils')\n",
    "\n",
    "transform_category='simplex'\n",
    "evaluating_model='DirichletSymmetric'\n",
    "plottype='density'\n",
    "var_name='x'\n",
    "var_dim=0\n",
    "\n",
    "\n",
    "# from sample import sample\n",
    "\n",
    "# transforms=['Stickbreaking', 'ALR', 'AugmentedSoftmax', 'StanStickbreaking', 'AugmentedILR', 'HypersphericalAngular', 'HypersphericalLogit', 'HypersphericalProbit', 'ProbitProduct']\n",
    "# for transform in transforms:\n",
    "#     sample(transform_category='simplex',\n",
    "#     transform=transform,\n",
    "#     evaluating_model='DirichletSymmetric',\n",
    "#     parameters=[{'alpha':[0.1]*10, 'N':10}],\n",
    "#     output_dir='/mnt/home/mjhajaria/ceph/',\n",
    "#     auto_eval_all_params=False,\n",
    "#     n_iter=1000,\n",
    "#     n_chains=4,\n",
    "#     n_repeat=1,\n",
    "#     show_progress=True,\n",
    "#     resample=True,\n",
    "#     return_idata=True)"
   ]
  },
  {
   "cell_type": "code",
   "execution_count": null,
   "id": "7121695b",
   "metadata": {},
   "outputs": [],
   "source": [
    "transform_category='simplex'\n",
    "evaluating_model='DirichletSymmetric'\n",
    "plottype='density'\n",
    "var_name='x'\n",
    "var_dim=0"
   ]
  },
  {
   "cell_type": "code",
   "execution_count": null,
   "id": "7e4e213d",
   "metadata": {},
   "outputs": [],
   "source": [
    "from rhat import calc_rhat_mixed_chains\n",
    "calc_rhat_mixed_chains(path_1='stan_models/ALR_DirichletSymmetric.stan', \n",
    "                       path_2='stan_models/Stickbreaking_DirichletSymmetric.stan', \n",
    "                       variable='x', data={'alpha':[0.1]*10, 'N':10}, force_compile=False)"
   ]
  },
  {
   "cell_type": "code",
   "execution_count": null,
   "id": "e326fa04",
   "metadata": {},
   "outputs": [],
   "source": [
    "from rmse import get_rmse_plot\n",
    "get_rmse_plot(transform_category, evaluating_model)"
   ]
  },
  {
   "cell_type": "code",
   "execution_count": null,
   "id": "29a59d0c",
   "metadata": {},
   "outputs": [],
   "source": [
    "from ess import get_ess_plot\n",
    "get_ess_plot(plottype, transform_category, evaluating_model, var_name, var_dim)"
   ]
  },
  {
   "cell_type": "code",
   "execution_count": null,
   "id": "8b40d45f",
   "metadata": {},
   "outputs": [],
   "source": []
  }
 ],
 "metadata": {
  "kernelspec": {
   "display_name": "Python 3 (ipykernel)",
   "language": "python",
   "name": "python3"
  },
  "language_info": {
   "codemirror_mode": {
    "name": "ipython",
    "version": 3
   },
   "file_extension": ".py",
   "mimetype": "text/x-python",
   "name": "python",
   "nbconvert_exporter": "python",
   "pygments_lexer": "ipython3",
   "version": "3.10.5"
  }
 },
 "nbformat": 4,
 "nbformat_minor": 5
}
