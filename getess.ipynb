{
 "cells": [
  {
   "cell_type": "code",
   "execution_count": 1,
   "id": "6b07ca7d",
   "metadata": {},
   "outputs": [],
   "source": [
    "import numpy as np\n",
    "from tqdm import tqdm\n",
    "import arviz as az\n",
    "transforms =  ['Stickbreaking', 'ALR', 'AugmentedSoftmax', 'StanStickbreaking', \n",
    "        'AugmentedILR', 'HypersphericalAngular', 'HypersphericalLogit',\n",
    "         'HypersphericalProbit', 'ProbitProduct']\n",
    "params=[1,2,3,4,5,6,7,8,9]"
   ]
  },
  {
   "cell_type": "code",
   "execution_count": null,
   "id": "29b9585f",
   "metadata": {
    "scrolled": true
   },
   "outputs": [],
   "source": [
    "for transform in tqdm(transforms):\n",
    "    for param in tqdm(params):\n",
    "        if (param==3 and transform=='HypersphericalAngular') or (param==6 and transform=='HypersphericalAngular') or (param==3 and transform=='ProbitProduct'):\n",
    "                print(\"nit this\")\n",
    "        else:\n",
    "            ess=[]\n",
    "            idata = az.from_netcdf(filename=f'/mnt/home/mjhajaria/ceph/sampling_results/simplex/{transform}/DirichletSymmetric/{param}_100.nc')\n",
    "\n",
    "            for k in tqdm(range(100)):\n",
    "                ess.append(list(az.ess(idata.sel(chain=[k*4, k*4+1, k*4+2, k*4+3], x_dim_0=0), var_names=['x']).values())[0].item())\n",
    "                \n",
    "            np.savetxt(f'ess_{transform}_{param}.csv',np.asarray(ess),delimiter =\", \")"
   ]
  },
  {
   "cell_type": "code",
   "execution_count": null,
   "id": "89f3f501",
   "metadata": {},
   "outputs": [
    {
     "name": "stderr",
     "output_type": "stream",
     "text": [
      "  0%|                                                                                            | 0/9 [00:00<?, ?it/s]\n",
      "  0%|                                                                                            | 0/9 [00:00<?, ?it/s]\u001b[A\n",
      " 11%|█████████▎                                                                          | 1/9 [00:10<01:22, 10.27s/it]\u001b[A\n",
      " 22%|██████████████████▋                                                                 | 2/9 [01:57<07:51, 67.41s/it]\u001b[A"
     ]
    }
   ],
   "source": [
    "for transform in tqdm(transforms):\n",
    "    for param in tqdm(params):\n",
    "        if (param==3 and transform=='HypersphericalAngular') or (param==6 and transform=='HypersphericalAngular') or (param==3 and transform=='ProbitProduct'):\n",
    "                print(\"nit this\")\n",
    "        else:\n",
    "\n",
    "            idata = az.from_netcdf(filename=f'/mnt/home/mjhajaria/ceph/sampling_results/simplex/{transform}/DirichletSymmetric/{param}_100.nc')\n",
    "\n",
    "            az.summary(idata).to_csv(f'summary/summary_{transform}_{param}.csv')"
   ]
  },
  {
   "cell_type": "code",
   "execution_count": null,
   "id": "1a007448",
   "metadata": {},
   "outputs": [],
   "source": []
  },
  {
   "cell_type": "code",
   "execution_count": null,
   "id": "e62d1a6a",
   "metadata": {},
   "outputs": [],
   "source": []
  }
 ],
 "metadata": {
  "kernelspec": {
   "display_name": "Python 3 (ipykernel)",
   "language": "python",
   "name": "python3"
  },
  "language_info": {
   "codemirror_mode": {
    "name": "ipython",
    "version": 3
   },
   "file_extension": ".py",
   "mimetype": "text/x-python",
   "name": "python",
   "nbconvert_exporter": "python",
   "pygments_lexer": "ipython3",
   "version": "3.10.5"
  }
 },
 "nbformat": 4,
 "nbformat_minor": 5
}
