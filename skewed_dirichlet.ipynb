{
 "cells": [
  {
   "cell_type": "code",
   "execution_count": 2,
   "id": "8e199518",
   "metadata": {},
   "outputs": [],
   "source": [
    "import os\n",
    "import sys\n",
    "sys.path.insert(1, 'utils')\n",
    "from cmdstanpy import CmdStanModel\n",
    "from pathlib import Path\n",
    "\n",
    "from scipy.stats import norm, entropy, skewnorm\n",
    "import numpy as np\n",
    "from utils import get_kl_divergence, get_true_x"
   ]
  },
  {
   "cell_type": "code",
   "execution_count": 3,
   "id": "ee513e0c",
   "metadata": {},
   "outputs": [
    {
     "name": "stderr",
     "output_type": "stream",
     "text": [
      "06:18:36 - cmdstanpy - INFO - compiling stan file /Users/meenaljhajharia/cmdstan/transforms/stan_models/ALR_DirichletSymmetric.stan to exe file /Users/meenaljhajharia/cmdstan/transforms/stan_models/ALR_DirichletSymmetric\n",
      "06:18:50 - cmdstanpy - INFO - compiled model executable: /Users/meenaljhajharia/cmdstan/transforms/stan_models/ALR_DirichletSymmetric\n"
     ]
    }
   ],
   "source": [
    "evaluating_model='DirichletSymmetric'\n",
    "transform_category='simplex'\n",
    "transform='ALR'\n",
    "\n",
    "Path(\"stan_models\").mkdir(parents=True, exist_ok=True)\n",
    "stan_filename=f'stan_models/{transform}_{evaluating_model}.stan'\n",
    "\n",
    "with open(stan_filename, 'w') as f:\n",
    "    f.write(f'#include ../target_densities/{evaluating_model}.stan{os.linesep}#include ../transforms/{transform_category}/{transform}.stan{os.linesep}')\n",
    "    f.close()\n",
    "    \n",
    "model = CmdStanModel(stan_file=stan_filename, cpp_options={\"STAN_THREADS\": \"true\"})"
   ]
  },
  {
   "cell_type": "code",
   "execution_count": 4,
   "id": "47143b38",
   "metadata": {
    "scrolled": true
   },
   "outputs": [
    {
     "name": "stderr",
     "output_type": "stream",
     "text": [
      "06:18:54 - cmdstanpy - INFO - CmdStan start processing\n"
     ]
    },
    {
     "data": {
      "application/vnd.jupyter.widget-view+json": {
       "model_id": "1770b515e2be42e4acdb64324daf53da",
       "version_major": 2,
       "version_minor": 0
      },
      "text/plain": [
       "chain 1 |          | 00:00 Status"
      ]
     },
     "metadata": {},
     "output_type": "display_data"
    },
    {
     "data": {
      "application/vnd.jupyter.widget-view+json": {
       "model_id": "76a2574ee82d486eaca17583ddd23155",
       "version_major": 2,
       "version_minor": 0
      },
      "text/plain": [
       "chain 2 |          | 00:00 Status"
      ]
     },
     "metadata": {},
     "output_type": "display_data"
    },
    {
     "data": {
      "application/vnd.jupyter.widget-view+json": {
       "model_id": "990e99029e544bf3a35225859c68ed7f",
       "version_major": 2,
       "version_minor": 0
      },
      "text/plain": [
       "chain 3 |          | 00:00 Status"
      ]
     },
     "metadata": {},
     "output_type": "display_data"
    },
    {
     "data": {
      "application/vnd.jupyter.widget-view+json": {
       "model_id": "97fdc05a3f6e49dda98d756a729fcb60",
       "version_major": 2,
       "version_minor": 0
      },
      "text/plain": [
       "chain 4 |          | 00:00 Status"
      ]
     },
     "metadata": {},
     "output_type": "display_data"
    },
    {
     "name": "stdout",
     "output_type": "stream",
     "text": [
      "                                                                                                                                                                                                                                                                                                                                "
     ]
    },
    {
     "name": "stderr",
     "output_type": "stream",
     "text": [
      "06:19:09 - cmdstanpy - INFO - CmdStan done processing.\n"
     ]
    },
    {
     "name": "stdout",
     "output_type": "stream",
     "text": [
      "\n"
     ]
    },
    {
     "name": "stderr",
     "output_type": "stream",
     "text": [
      "06:19:10 - cmdstanpy - WARNING - Some chains may have failed to converge.\n",
      "\tChain 1 had 3 divergent transitions (0.3%)\n",
      "\tChain 3 had 11 divergent transitions (1.1%)\n",
      "\tChain 4 had 15 divergent transitions (1.5%)\n",
      "\tUse function \"diagnose()\" to see further information.\n"
     ]
    }
   ],
   "source": [
    "n_iter=1000\n",
    "\n",
    "# alpha= skewnorm.rvs(a=20, loc=0.1, scale=50, size=1000)\n",
    "# alpha = np.linspace(100, 0.1, 1000)\n",
    "alpha = np.linspace(0.1, 100, 1000)\n",
    "\n",
    "draws = model.sample(data={'alpha': alpha, 'N':len(alpha)}, iter_sampling=n_iter)"
   ]
  },
  {
   "cell_type": "code",
   "execution_count": 5,
   "id": "8addbc6d",
   "metadata": {},
   "outputs": [
    {
     "data": {
      "text/plain": [
       "1.6733222463175095"
      ]
     },
     "execution_count": 5,
     "metadata": {},
     "output_type": "execute_result"
    }
   ],
   "source": [
    "get_kl_divergence(draws, n_iter)"
   ]
  },
  {
   "cell_type": "code",
   "execution_count": 7,
   "id": "c71ced48",
   "metadata": {},
   "outputs": [
    {
     "data": {
      "text/html": [
       "<div>\n",
       "<style scoped>\n",
       "    .dataframe tbody tr th:only-of-type {\n",
       "        vertical-align: middle;\n",
       "    }\n",
       "\n",
       "    .dataframe tbody tr th {\n",
       "        vertical-align: top;\n",
       "    }\n",
       "\n",
       "    .dataframe thead th {\n",
       "        text-align: right;\n",
       "    }\n",
       "</style>\n",
       "<table border=\"1\" class=\"dataframe\">\n",
       "  <thead>\n",
       "    <tr style=\"text-align: right;\">\n",
       "      <th></th>\n",
       "      <th>Mean</th>\n",
       "      <th>MCSE</th>\n",
       "      <th>StdDev</th>\n",
       "      <th>5%</th>\n",
       "      <th>50%</th>\n",
       "      <th>95%</th>\n",
       "      <th>N_Eff</th>\n",
       "      <th>N_Eff/s</th>\n",
       "      <th>R_hat</th>\n",
       "    </tr>\n",
       "    <tr>\n",
       "      <th>name</th>\n",
       "      <th></th>\n",
       "      <th></th>\n",
       "      <th></th>\n",
       "      <th></th>\n",
       "      <th></th>\n",
       "      <th></th>\n",
       "      <th></th>\n",
       "      <th></th>\n",
       "      <th></th>\n",
       "    </tr>\n",
       "  </thead>\n",
       "  <tbody>\n",
       "    <tr>\n",
       "      <th>lp__</th>\n",
       "      <td>374.965000</td>\n",
       "      <td>0.677076</td>\n",
       "      <td>22.445100</td>\n",
       "      <td>338.024000</td>\n",
       "      <td>375.197000</td>\n",
       "      <td>411.104000</td>\n",
       "      <td>1098.92000</td>\n",
       "      <td>45.95490</td>\n",
       "      <td>1.002110</td>\n",
       "    </tr>\n",
       "    <tr>\n",
       "      <th>y[1]</th>\n",
       "      <td>-14.381800</td>\n",
       "      <td>0.284721</td>\n",
       "      <td>9.719570</td>\n",
       "      <td>-34.155100</td>\n",
       "      <td>-11.421600</td>\n",
       "      <td>-5.108320</td>\n",
       "      <td>1165.35000</td>\n",
       "      <td>48.73290</td>\n",
       "      <td>1.003620</td>\n",
       "    </tr>\n",
       "    <tr>\n",
       "      <th>y[2]</th>\n",
       "      <td>-9.864450</td>\n",
       "      <td>0.156622</td>\n",
       "      <td>5.221900</td>\n",
       "      <td>-20.179200</td>\n",
       "      <td>-8.371770</td>\n",
       "      <td>-4.629230</td>\n",
       "      <td>1111.60000</td>\n",
       "      <td>46.48510</td>\n",
       "      <td>1.004840</td>\n",
       "    </tr>\n",
       "    <tr>\n",
       "      <th>y[3]</th>\n",
       "      <td>-8.128770</td>\n",
       "      <td>0.096717</td>\n",
       "      <td>3.587830</td>\n",
       "      <td>-15.136900</td>\n",
       "      <td>-7.145950</td>\n",
       "      <td>-4.336330</td>\n",
       "      <td>1376.14000</td>\n",
       "      <td>57.54770</td>\n",
       "      <td>1.001290</td>\n",
       "    </tr>\n",
       "    <tr>\n",
       "      <th>y[4]</th>\n",
       "      <td>-7.138140</td>\n",
       "      <td>0.061410</td>\n",
       "      <td>2.616210</td>\n",
       "      <td>-12.150600</td>\n",
       "      <td>-6.518480</td>\n",
       "      <td>-4.066780</td>\n",
       "      <td>1814.96000</td>\n",
       "      <td>75.89860</td>\n",
       "      <td>1.001330</td>\n",
       "    </tr>\n",
       "    <tr>\n",
       "      <th>...</th>\n",
       "      <td>...</td>\n",
       "      <td>...</td>\n",
       "      <td>...</td>\n",
       "      <td>...</td>\n",
       "      <td>...</td>\n",
       "      <td>...</td>\n",
       "      <td>...</td>\n",
       "      <td>...</td>\n",
       "      <td>...</td>\n",
       "    </tr>\n",
       "    <tr>\n",
       "      <th>x[996]</th>\n",
       "      <td>0.001994</td>\n",
       "      <td>0.000003</td>\n",
       "      <td>0.000203</td>\n",
       "      <td>0.001669</td>\n",
       "      <td>0.001988</td>\n",
       "      <td>0.002339</td>\n",
       "      <td>6399.49000</td>\n",
       "      <td>267.61600</td>\n",
       "      <td>0.999836</td>\n",
       "    </tr>\n",
       "    <tr>\n",
       "      <th>x[997]</th>\n",
       "      <td>0.001989</td>\n",
       "      <td>0.000003</td>\n",
       "      <td>0.000196</td>\n",
       "      <td>0.001682</td>\n",
       "      <td>0.001984</td>\n",
       "      <td>0.002320</td>\n",
       "      <td>4993.02000</td>\n",
       "      <td>208.79900</td>\n",
       "      <td>0.999329</td>\n",
       "    </tr>\n",
       "    <tr>\n",
       "      <th>x[998]</th>\n",
       "      <td>0.001993</td>\n",
       "      <td>0.000002</td>\n",
       "      <td>0.000192</td>\n",
       "      <td>0.001688</td>\n",
       "      <td>0.001987</td>\n",
       "      <td>0.002321</td>\n",
       "      <td>6886.68000</td>\n",
       "      <td>287.98900</td>\n",
       "      <td>0.999269</td>\n",
       "    </tr>\n",
       "    <tr>\n",
       "      <th>x[999]</th>\n",
       "      <td>0.001997</td>\n",
       "      <td>0.000002</td>\n",
       "      <td>0.000196</td>\n",
       "      <td>0.001688</td>\n",
       "      <td>0.001993</td>\n",
       "      <td>0.002323</td>\n",
       "      <td>6825.96000</td>\n",
       "      <td>285.45000</td>\n",
       "      <td>0.999622</td>\n",
       "    </tr>\n",
       "    <tr>\n",
       "      <th>x[1000]</th>\n",
       "      <td>0.002037</td>\n",
       "      <td>0.000089</td>\n",
       "      <td>0.000204</td>\n",
       "      <td>0.001655</td>\n",
       "      <td>0.002043</td>\n",
       "      <td>0.002357</td>\n",
       "      <td>5.30509</td>\n",
       "      <td>0.22185</td>\n",
       "      <td>1.332970</td>\n",
       "    </tr>\n",
       "  </tbody>\n",
       "</table>\n",
       "<p>2000 rows × 9 columns</p>\n",
       "</div>"
      ],
      "text/plain": [
       "               Mean      MCSE     StdDev          5%         50%         95%  \\\n",
       "name                                                                           \n",
       "lp__     374.965000  0.677076  22.445100  338.024000  375.197000  411.104000   \n",
       "y[1]     -14.381800  0.284721   9.719570  -34.155100  -11.421600   -5.108320   \n",
       "y[2]      -9.864450  0.156622   5.221900  -20.179200   -8.371770   -4.629230   \n",
       "y[3]      -8.128770  0.096717   3.587830  -15.136900   -7.145950   -4.336330   \n",
       "y[4]      -7.138140  0.061410   2.616210  -12.150600   -6.518480   -4.066780   \n",
       "...             ...       ...        ...         ...         ...         ...   \n",
       "x[996]     0.001994  0.000003   0.000203    0.001669    0.001988    0.002339   \n",
       "x[997]     0.001989  0.000003   0.000196    0.001682    0.001984    0.002320   \n",
       "x[998]     0.001993  0.000002   0.000192    0.001688    0.001987    0.002321   \n",
       "x[999]     0.001997  0.000002   0.000196    0.001688    0.001993    0.002323   \n",
       "x[1000]    0.002037  0.000089   0.000204    0.001655    0.002043    0.002357   \n",
       "\n",
       "              N_Eff    N_Eff/s     R_hat  \n",
       "name                                      \n",
       "lp__     1098.92000   45.95490  1.002110  \n",
       "y[1]     1165.35000   48.73290  1.003620  \n",
       "y[2]     1111.60000   46.48510  1.004840  \n",
       "y[3]     1376.14000   57.54770  1.001290  \n",
       "y[4]     1814.96000   75.89860  1.001330  \n",
       "...             ...        ...       ...  \n",
       "x[996]   6399.49000  267.61600  0.999836  \n",
       "x[997]   4993.02000  208.79900  0.999329  \n",
       "x[998]   6886.68000  287.98900  0.999269  \n",
       "x[999]   6825.96000  285.45000  0.999622  \n",
       "x[1000]     5.30509    0.22185  1.332970  \n",
       "\n",
       "[2000 rows x 9 columns]"
      ]
     },
     "execution_count": 7,
     "metadata": {},
     "output_type": "execute_result"
    }
   ],
   "source": [
    "draws.summary()"
   ]
  },
  {
   "cell_type": "code",
   "execution_count": 11,
   "id": "e214dbc2",
   "metadata": {},
   "outputs": [
    {
     "name": "stdout",
     "output_type": "stream",
     "text": [
      "2.1223429693136105e-06 1.998001998001998e-06\n"
     ]
    }
   ],
   "source": [
    "import arviz as az\n",
    "idata=az.from_cmdstanpy(draws)"
   ]
  },
  {
   "cell_type": "code",
   "execution_count": 19,
   "id": "5e9ccb1a",
   "metadata": {},
   "outputs": [
    {
     "data": {
      "text/plain": [
       "2.1361103907762476e-06"
      ]
     },
     "execution_count": 19,
     "metadata": {},
     "output_type": "execute_result"
    }
   ],
   "source": [
    "from rmse import rmse\n",
    "\n",
    "pred_x=idata.posterior.x.mean(dim=['draw','chain']).values\n",
    "true_x = get_true_x(alpha=alpha, evaluating_model='DirichletAsymmetric')\n",
    "\n",
    "rmse(true_x, pred_x)"
   ]
  }
 ],
 "metadata": {
  "kernelspec": {
   "display_name": "Python 3 (ipykernel)",
   "language": "python",
   "name": "python3"
  },
  "language_info": {
   "codemirror_mode": {
    "name": "ipython",
    "version": 3
   },
   "file_extension": ".py",
   "mimetype": "text/x-python",
   "name": "python",
   "nbconvert_exporter": "python",
   "pygments_lexer": "ipython3",
   "version": "3.10.4"
  },
  "vscode": {
   "interpreter": {
    "hash": "ef44ca16be6a576ba38aa4b62eff9617b26843b1fba9bdd1ce6f226e6eeea4a6"
   }
  }
 },
 "nbformat": 4,
 "nbformat_minor": 5
}
