{
 "cells": [
  {
   "cell_type": "code",
   "execution_count": 1,
   "id": "a73f768c",
   "metadata": {},
   "outputs": [],
   "source": [
    "import cmdstanpy\n",
    "import pandas as pd\n",
    "import arviz as az\n",
    "import numpy as np\n",
    "import matplotlib.pyplot as plt\n",
    "import xarray as xr\n",
    "import os\n",
    "from cmdstanpy import cmdstan_path, CmdStanModel\n",
    "\n",
    "from sklearn.metrics import mean_squared_error\n",
    "from math import sqrt\n",
    "\n",
    "from tqdm import tqdm\n",
    "# import logging, sys\n",
    "# logging.disable(sys.maxsize)"
   ]
  },
  {
   "cell_type": "code",
   "execution_count": 2,
   "id": "ddf39a7a",
   "metadata": {},
   "outputs": [],
   "source": [
    "!export CMDSTAN='/Users/meenaljhajharia/cmdstan'"
   ]
  },
  {
   "cell_type": "code",
   "execution_count": 3,
   "id": "412e5f2a",
   "metadata": {},
   "outputs": [],
   "source": [
    "az.style.use(\"arviz-darkgrid\")"
   ]
  },
  {
   "cell_type": "code",
   "execution_count": 4,
   "id": "62d589a9",
   "metadata": {},
   "outputs": [],
   "source": [
    "def get_rmse_leapfrog(file, alpha, K, return_idata=False):\n",
    "    model = CmdStanModel(stan_file=file, cpp_options={'STAN_THREADS':'true'})\n",
    "#     model.compile(force=True)\n",
    "    alpha = np.repeat(alpha,K)\n",
    "    true = np.asarray(alpha/np.sum(alpha))[0]\n",
    "    fit = model.sample(data=dict(K=K,alpha=alpha))\n",
    "    dataframe_draws = fit.draws_pd()\n",
    "    pred = np.asarray(dataframe_draws[['x[2]']])[:1000]\n",
    "    true = np.repeat(0.1, 4000)\n",
    "    leapfrog = dataframe_draws[['n_leapfrog__']][:1000]\n",
    "\n",
    "    y=[]\n",
    "    for i in range(1, 1001):\n",
    "            y.append(sqrt(mean_squared_error(true[:i], pred[:i])))\n",
    "\n",
    "    x = np.cumsum(leapfrog)\n",
    "    \n",
    "    return x,y"
   ]
  },
  {
   "cell_type": "code",
   "execution_count": 5,
   "id": "f7fe681f",
   "metadata": {},
   "outputs": [],
   "source": [
    "def get_plot(ax, alpha, K=10):\n",
    "    \n",
    "    file_simplex_stan = '/Users/meenaljhajharia/cmdstan/transforms/simplex-stan/simplex-stan.stan'\n",
    "    file_simplex_stickbreaking = '/Users/meenaljhajharia/cmdstan/transforms/simplex-stickbreaking/simplex-stickbreaking.stan'\n",
    "    file_simplex_softmax = '/Users/meenaljhajharia/cmdstan/transforms/simplex-softmax/simplex-softmax.stan'\n",
    "#     file_simplex_softmax_augmented = '/Users/meenaljhajharia/cmdstan/transforms/simplex-softmax-augmented/simplex-softmax-augmented.stan'\n",
    "    \n",
    "    x_simplex_stan, y_simplex_stan = get_rmse_leapfrog(file_simplex_stan, alpha=alpha, K=K)\n",
    "    x_simplex_stickbreaking, y_simplex_stickbreaking = get_rmse_leapfrog(file_simplex_stickbreaking, alpha=alpha, K=K)\n",
    "    x_simplex_softmax, y_simplex_softmax = get_rmse_leapfrog(file_simplex_softmax, alpha=alpha, K=K)\n",
    "#     x_simplex_softmax_augmented, y_simplex_softmax_augmented = get_rmse_leapfrog(file_simplex_softmax_augmented, alpha=alpha, K=K)\n",
    "\n",
    "    ax.plot(x_simplex_stan, y_simplex_stan, label = \"Stan Transform\")\n",
    "    ax.plot(x_simplex_stickbreaking, y_simplex_stickbreaking, label = \"Stickbreaking\")\n",
    "    ax.plot(x_simplex_softmax, y_simplex_softmax, label = \"Softmax\")\n",
    "#     ax.plot(x_simplex_softmax_augmented, y_simplex_softmax_augmented, label = \"Softmax Augmented\")\n",
    "    \n",
    "    ax.set_title('alpha='+str(alpha)+', K='+str(K))"
   ]
  },
  {
   "cell_type": "code",
   "execution_count": null,
   "id": "3d1c55e8",
   "metadata": {},
   "outputs": [
    {
     "name": "stderr",
     "output_type": "stream",
     "text": [
      "  0%|                                                     | 0/3 [00:00<?, ?it/s]INFO:cmdstanpy:found newer exe file, not recompiling\n",
      "INFO:cmdstanpy:CmdStan start processing\n"
     ]
    },
    {
     "data": {
      "application/vnd.jupyter.widget-view+json": {
       "model_id": "ff5b24c964894f01bea2e5d28a5cf055",
       "version_major": 2,
       "version_minor": 0
      },
      "text/plain": [
       "chain 1 |          | 00:00 Status"
      ]
     },
     "metadata": {},
     "output_type": "display_data"
    },
    {
     "data": {
      "application/vnd.jupyter.widget-view+json": {
       "model_id": "9658a73cc70945aba8980fbdc1957e53",
       "version_major": 2,
       "version_minor": 0
      },
      "text/plain": [
       "chain 2 |          | 00:00 Status"
      ]
     },
     "metadata": {},
     "output_type": "display_data"
    },
    {
     "data": {
      "application/vnd.jupyter.widget-view+json": {
       "model_id": "985d970d082a45e78af882d802187a89",
       "version_major": 2,
       "version_minor": 0
      },
      "text/plain": [
       "chain 3 |          | 00:00 Status"
      ]
     },
     "metadata": {},
     "output_type": "display_data"
    },
    {
     "data": {
      "application/vnd.jupyter.widget-view+json": {
       "model_id": "6d9ff39d19f54f68b67a0111ce44fbc4",
       "version_major": 2,
       "version_minor": 0
      },
      "text/plain": [
       "chain 4 |          | 00:00 Status"
      ]
     },
     "metadata": {},
     "output_type": "display_data"
    },
    {
     "name": "stdout",
     "output_type": "stream",
     "text": [
      "                                                                                                                                                                                                                                                                                                                                "
     ]
    },
    {
     "name": "stderr",
     "output_type": "stream",
     "text": [
      "INFO:cmdstanpy:CmdStan done processing.\n"
     ]
    },
    {
     "name": "stdout",
     "output_type": "stream",
     "text": [
      "\n"
     ]
    },
    {
     "name": "stderr",
     "output_type": "stream",
     "text": [
      "INFO:cmdstanpy:found newer exe file, not recompiling\n",
      "INFO:cmdstanpy:CmdStan start processing\n"
     ]
    },
    {
     "data": {
      "application/vnd.jupyter.widget-view+json": {
       "model_id": "1b617e4b4cd34d39bde80f945681de4f",
       "version_major": 2,
       "version_minor": 0
      },
      "text/plain": [
       "chain 1 |          | 00:00 Status"
      ]
     },
     "metadata": {},
     "output_type": "display_data"
    },
    {
     "data": {
      "application/vnd.jupyter.widget-view+json": {
       "model_id": "7a32550c0de545d281fea2c52233a459",
       "version_major": 2,
       "version_minor": 0
      },
      "text/plain": [
       "chain 2 |          | 00:00 Status"
      ]
     },
     "metadata": {},
     "output_type": "display_data"
    },
    {
     "data": {
      "application/vnd.jupyter.widget-view+json": {
       "model_id": "4021c55cdc3141168ead474079d79071",
       "version_major": 2,
       "version_minor": 0
      },
      "text/plain": [
       "chain 3 |          | 00:00 Status"
      ]
     },
     "metadata": {},
     "output_type": "display_data"
    },
    {
     "data": {
      "application/vnd.jupyter.widget-view+json": {
       "model_id": "c2c20db214834586acd3a56c02203b03",
       "version_major": 2,
       "version_minor": 0
      },
      "text/plain": [
       "chain 4 |          | 00:00 Status"
      ]
     },
     "metadata": {},
     "output_type": "display_data"
    },
    {
     "name": "stdout",
     "output_type": "stream",
     "text": [
      "                                                                                                                                                                                                                                                                                                                                "
     ]
    },
    {
     "name": "stderr",
     "output_type": "stream",
     "text": [
      "INFO:cmdstanpy:CmdStan done processing.\n"
     ]
    },
    {
     "name": "stdout",
     "output_type": "stream",
     "text": [
      "\n"
     ]
    },
    {
     "name": "stderr",
     "output_type": "stream",
     "text": [
      "INFO:cmdstanpy:found newer exe file, not recompiling\n",
      "INFO:cmdstanpy:CmdStan start processing\n"
     ]
    },
    {
     "data": {
      "application/vnd.jupyter.widget-view+json": {
       "model_id": "f2dc35b2358f4ac49ed896a4e90c0948",
       "version_major": 2,
       "version_minor": 0
      },
      "text/plain": [
       "chain 1 |          | 00:00 Status"
      ]
     },
     "metadata": {},
     "output_type": "display_data"
    },
    {
     "data": {
      "application/vnd.jupyter.widget-view+json": {
       "model_id": "65f0ae70e40b4e6d88a722adee6ed83a",
       "version_major": 2,
       "version_minor": 0
      },
      "text/plain": [
       "chain 2 |          | 00:00 Status"
      ]
     },
     "metadata": {},
     "output_type": "display_data"
    },
    {
     "data": {
      "application/vnd.jupyter.widget-view+json": {
       "model_id": "1501072be5b64117a97d48d692ea5a3c",
       "version_major": 2,
       "version_minor": 0
      },
      "text/plain": [
       "chain 3 |          | 00:00 Status"
      ]
     },
     "metadata": {},
     "output_type": "display_data"
    },
    {
     "data": {
      "application/vnd.jupyter.widget-view+json": {
       "model_id": "621e3727b1744784bb399cd8a17a39a5",
       "version_major": 2,
       "version_minor": 0
      },
      "text/plain": [
       "chain 4 |          | 00:00 Status"
      ]
     },
     "metadata": {},
     "output_type": "display_data"
    }
   ],
   "source": [
    "plt.rcParams[\"figure.figsize\"] = (20,10)\n",
    "alphas = [10,1,0.1]\n",
    "Ks=[10,1000,1000]\n",
    "\n",
    "fig, axes = plt.subplots(3,3)\n",
    "\n",
    "fig.supxlabel('Cumulative Leapfrog Steps')\n",
    "fig.supylabel('Root Mean Squared Error')\n",
    "\n",
    "for i in tqdm(alphas):\n",
    "    for ax,j in zip(axes.flatten(), Ks):\n",
    "        get_plot(ax,i, j) \n",
    "    \n",
    "fig.legend(labels=[\"Stan Transform\",\"Stickbreaking\",\"Softmax\"],bbox_to_anchor = (0.6, -0.05));\n"
   ]
  },
  {
   "cell_type": "code",
   "execution_count": null,
   "id": "547bdecb",
   "metadata": {},
   "outputs": [],
   "source": []
  }
 ],
 "metadata": {
  "_draft": {
   "nbviewer_url": "https://gist.github.com/8bc199c091f735b999e4ea136004cf76"
  },
  "gist": {
   "data": {
    "description": "cmdstan/transforms/plots.ipynb",
    "public": false
   },
   "id": "8bc199c091f735b999e4ea136004cf76"
  },
  "kernelspec": {
   "display_name": "Python 3 (ipykernel)",
   "language": "python",
   "name": "python3"
  },
  "language_info": {
   "codemirror_mode": {
    "name": "ipython",
    "version": 3
   },
   "file_extension": ".py",
   "mimetype": "text/x-python",
   "name": "python",
   "nbconvert_exporter": "python",
   "pygments_lexer": "ipython3",
   "version": "3.10.4"
  }
 },
 "nbformat": 4,
 "nbformat_minor": 5
}
